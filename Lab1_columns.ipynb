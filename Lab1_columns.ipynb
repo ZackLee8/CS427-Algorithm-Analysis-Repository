{
 "cells": [
  {
   "cell_type": "markdown",
   "id": "d1749f75-041b-4ceb-9c70-2c1616861963",
   "metadata": {},
   "source": [
    "Hello there, my name is Zack Lee and in this lab i will be creating a custom data set with multiple data types. I will be working with and usinf pandas DataFrames for exlploration and cleaning, I will also be using different data structures such as lists, dictionaries, and DataFrames."
   ]
  },
  {
   "cell_type": "markdown",
   "id": "236bfed0-3a5a-45a5-8d31-c35f461bdc6b",
   "metadata": {},
   "source": [
    "Part 2 of this Lab will be setting up the pandas DataFrame and filling the DataFrame with randomly generate data using random."
   ]
  },
  {
   "cell_type": "code",
   "execution_count": null,
   "id": "d6579dc9-7a54-4684-98a4-c3f2a61731c6",
   "metadata": {},
   "outputs": [],
   "source": [
    "#import statements"
   ]
  },
  {
   "cell_type": "code",
   "execution_count": null,
   "id": "85586139-718a-401c-a15b-2750479e7093",
   "metadata": {},
   "outputs": [],
   "source": [
    "import numpy as np\n",
    "import pandas as pd\n",
    "import random"
   ]
  },
  {
   "cell_type": "code",
   "execution_count": null,
   "id": "beeb052b-677b-41ea-8a70-d349aecfebb5",
   "metadata": {},
   "outputs": [],
   "source": [
    "#create a random seeto get reproducability"
   ]
  },
  {
   "cell_type": "code",
   "execution_count": null,
   "id": "ee614ac5-5edb-486b-af67-be23b7781bd1",
   "metadata": {},
   "outputs": [],
   "source": [
    "np.random.seed(1)\n",
    "random.seed(1)"
   ]
  },
  {
   "cell_type": "code",
   "execution_count": null,
   "id": "a25b0f07-726c-49d3-96b9-7b0625e90b78",
   "metadata": {},
   "outputs": [],
   "source": [
    "#declare a constant for the number of rows"
   ]
  },
  {
   "cell_type": "code",
   "execution_count": null,
   "id": "9e9901e3-3736-414f-ab0b-0258b09adc83",
   "metadata": {},
   "outputs": [],
   "source": [
    "num_rows = 50"
   ]
  },
  {
   "cell_type": "code",
   "execution_count": null,
   "id": "e896e054-5c16-40fb-b0e8-3aa7264fadf0",
   "metadata": {},
   "outputs": [],
   "source": [
    "#create the student ID numbers using numpy"
   ]
  },
  {
   "cell_type": "code",
   "execution_count": null,
   "id": "360b9663-5d9c-4152-9ceb-b5ade9ae0e3f",
   "metadata": {},
   "outputs": [],
   "source": [
    "student_ID = np.arange(1000, 1000 + num_rows)"
   ]
  },
  {
   "cell_type": "code",
   "execution_count": null,
   "id": "4ee93115-a0fd-438b-a7c6-990532e75480",
   "metadata": {},
   "outputs": [],
   "source": [
    "#randomly generate the students scores using numpy and random"
   ]
  },
  {
   "cell_type": "code",
   "execution_count": null,
   "id": "25f07c74-f28c-4463-a68b-dd5a3b3ae128",
   "metadata": {},
   "outputs": [],
   "source": [
    "score = np.round(np.random.uniform(50, 100, size = num_rows), 2)"
   ]
  },
  {
   "cell_type": "code",
   "execution_count": null,
   "id": "637c6a06-fb16-4360-beec-e9776a8743f7",
   "metadata": {},
   "outputs": [],
   "source": [
    "#create the different types of majors using a list"
   ]
  },
  {
   "cell_type": "code",
   "execution_count": null,
   "id": "a9afa2d0-2b87-4100-836c-300c693ecbed",
   "metadata": {},
   "outputs": [],
   "source": [
    "major = random.choices(\n",
    "    [\n",
    "        \"Computer Science\",\n",
    "        \"Engineering\",\n",
    "        \"History\",\n",
    "        \"English\", \n",
    "        \"Criminal Justice\"\n",
    "    ],\n",
    "    k = num_rows\n",
    ")"
   ]
  },
  {
   "cell_type": "code",
   "execution_count": null,
   "id": "60c54355-6981-4b2e-803c-259ed2a6562e",
   "metadata": {},
   "outputs": [],
   "source": [
    "#randomly generate a graduation year between two dates"
   ]
  },
  {
   "cell_type": "code",
   "execution_count": null,
   "id": "bd841d29-bea8-40cd-8a52-a4887a15d12b",
   "metadata": {},
   "outputs": [],
   "source": [
    "graduation_year = np.random.choice(np.arange(2026, 2030), size = num_rows)"
   ]
  },
  {
   "cell_type": "code",
   "execution_count": null,
   "id": "3a967c4b-7491-447c-ac20-e4b2309f7b5d",
   "metadata": {},
   "outputs": [],
   "source": [
    "#create a pass/fail based on the students score"
   ]
  },
  {
   "cell_type": "code",
   "execution_count": null,
   "id": "ab099f05-17ff-458e-a0ff-f12056d8eb87",
   "metadata": {},
   "outputs": [],
   "source": [
    "pass_fail = score >= 70.0"
   ]
  },
  {
   "cell_type": "code",
   "execution_count": null,
   "id": "cd390e5a-3d08-4b4e-b72a-39a333f707ea",
   "metadata": {},
   "outputs": [],
   "source": [
    "#create the data set using a dictionary"
   ]
  },
  {
   "cell_type": "code",
   "execution_count": null,
   "id": "bd469db6-f38d-4b8b-add2-9686247fd396",
   "metadata": {},
   "outputs": [],
   "source": [
    "data_set = {\n",
    "    \"Student_ID\": student_ID,  \n",
    "    \"Score: \": score,              \n",
    "    \"Major: \": major,              \n",
    "    \"Graduation Year: \": graduation_year,\n",
    "    \"Pass/Fail: \": pass_fail \n",
    "}"
   ]
  },
  {
   "cell_type": "code",
   "execution_count": null,
   "id": "25b65abd-8cf6-42b6-a550-b1760b8e10ed",
   "metadata": {},
   "outputs": [],
   "source": [
    "#using pandas create the dataframe"
   ]
  },
  {
   "cell_type": "code",
   "execution_count": null,
   "id": "1330112c-fe1c-4774-a1f1-6a632a9c2ce9",
   "metadata": {},
   "outputs": [],
   "source": [
    "transcript_df = pd.DataFrame(data_set)"
   ]
  },
  {
   "cell_type": "code",
   "execution_count": null,
   "id": "80a9a91f-f1cc-4638-9657-72d13c4d8bbf",
   "metadata": {},
   "outputs": [],
   "source": [
    "transcript_df"
   ]
  },
  {
   "cell_type": "markdown",
   "id": "1153cabd-14b3-4ab0-9eac-991840cebc98",
   "metadata": {},
   "source": [
    "Part 3 of this lab will be using exploring the data in the data frame using different methods such as describe(), iloc[], loc[] and so forth."
   ]
  },
  {
   "cell_type": "code",
   "execution_count": null,
   "id": "5d749f05-9757-4cd0-bf68-098dbdc4d346",
   "metadata": {},
   "outputs": [],
   "source": [
    "#display the first 5 rows"
   ]
  },
  {
   "cell_type": "code",
   "execution_count": null,
   "id": "149a32cb-9d68-44a0-b341-5349563fb381",
   "metadata": {},
   "outputs": [],
   "source": [
    "transcript_df.head(5)"
   ]
  },
  {
   "cell_type": "code",
   "execution_count": null,
   "id": "256950bf-2519-4144-ac56-eeaec9dddf9c",
   "metadata": {},
   "outputs": [],
   "source": [
    "#display the last 5 rows"
   ]
  },
  {
   "cell_type": "code",
   "execution_count": null,
   "id": "515769da-3293-43dc-add7-f9bbb7b6c589",
   "metadata": {},
   "outputs": [],
   "source": [
    "transcript_df.tail(-5)"
   ]
  },
  {
   "cell_type": "code",
   "execution_count": null,
   "id": "f5c2cc99-5f9c-4612-99fc-e4a0267b2169",
   "metadata": {},
   "outputs": [],
   "source": [
    "#display the column names and the data types"
   ]
  },
  {
   "cell_type": "code",
   "execution_count": null,
   "id": "6404820f-dca8-45fe-847b-74873043f779",
   "metadata": {},
   "outputs": [],
   "source": [
    "transcript_df.keys()"
   ]
  },
  {
   "cell_type": "code",
   "execution_count": null,
   "id": "900755e9-4d7a-43b8-9647-ab45292edf6b",
   "metadata": {},
   "outputs": [],
   "source": [
    "transcript_df.dtypes"
   ]
  },
  {
   "cell_type": "code",
   "execution_count": null,
   "id": "c4d7f5fc-8664-410f-8be2-832c9f0c1d5b",
   "metadata": {},
   "outputs": [],
   "source": [
    "#Generate descriptive statitics using desribce() for numeric columns"
   ]
  },
  {
   "cell_type": "code",
   "execution_count": null,
   "id": "974035ed-c027-44ad-8c9e-48bb324d4f7c",
   "metadata": {},
   "outputs": [],
   "source": [
    "transcript_df.describe()"
   ]
  },
  {
   "cell_type": "code",
   "execution_count": null,
   "id": "8ac6b8e6-2134-4406-bc29-f7f170e370ac",
   "metadata": {},
   "outputs": [],
   "source": [
    "#find the number of unique values in a categorical column (we will do majors)"
   ]
  },
  {
   "cell_type": "code",
   "execution_count": null,
   "id": "6dcb410c-c3e9-4818-b7d5-7e194d0e67f3",
   "metadata": {},
   "outputs": [],
   "source": [
    "transcript_df[\"Major: \"].value_counts()"
   ]
  },
  {
   "cell_type": "code",
   "execution_count": null,
   "id": "e901374a-3d4f-4ebb-9b7a-33646a5e5c31",
   "metadata": {},
   "outputs": [],
   "source": [
    "#use info() to get the overal non-null counts and datatypes of each column, along with the size of the dataframe"
   ]
  },
  {
   "cell_type": "code",
   "execution_count": null,
   "id": "045ff6da-cd30-4598-a760-2a1d8b391c69",
   "metadata": {},
   "outputs": [],
   "source": [
    "transcript_df.info()"
   ]
  },
  {
   "cell_type": "markdown",
   "id": "ecdd3d2a-b0a5-4695-af34-058c00444048",
   "metadata": {},
   "source": [
    "Part 4: Column challenge, in this part of the lab we will be adding a new column that is computed from another column. In this case we will take the students score and give them a letter grade. "
   ]
  },
  {
   "cell_type": "markdown",
   "id": "29a90c99-001f-496d-be07-404db2c9df44",
   "metadata": {},
   "source": [
    "create a new grade list. With the grade list iterate over score column in the transcript df and based on the students score append their grade to the list"
   ]
  },
  {
   "cell_type": "code",
   "execution_count": null,
   "id": "0b751224-ae5f-45a8-ae79-5bb4274d32a0",
   "metadata": {},
   "outputs": [],
   "source": [
    "grade = []\n",
    "\n",
    "for score in transcript_df['Score: ']:\n",
    "    if score < 70:\n",
    "        grade.append(\"F\")\n",
    "    elif score >= 70 and score <= 79.99:\n",
    "        grade.append(\"C\")\n",
    "    elif score >= 80 and score <= 89.99:\n",
    "        grade.append(\"B\")\n",
    "    else:\n",
    "        grade.append(\"A\")"
   ]
  },
  {
   "cell_type": "code",
   "execution_count": null,
   "id": "a47626e7-c8a2-4f03-8f59-ddd308e5a404",
   "metadata": {},
   "outputs": [],
   "source": [
    "#attach the new column to the transcript df"
   ]
  },
  {
   "cell_type": "code",
   "execution_count": null,
   "id": "ea9ea7e1-4834-4c40-bf4c-2646b817e9e7",
   "metadata": {},
   "outputs": [],
   "source": [
    "transcript_df['Grade : '] = grade"
   ]
  },
  {
   "cell_type": "code",
   "execution_count": null,
   "id": "4523abab-ad01-4cc1-a22c-37fd832ab064",
   "metadata": {},
   "outputs": [],
   "source": [
    "transcript_df"
   ]
  },
  {
   "cell_type": "code",
   "execution_count": null,
   "id": "266732bf-0f4d-44b6-9a7d-8951910cdf29",
   "metadata": {},
   "outputs": [],
   "source": [
    "#save the final dataframe with the 6 columns as a csv file"
   ]
  },
  {
   "cell_type": "code",
   "execution_count": null,
   "id": "2587b0e4-c275-4b3b-91f7-a6f9d122692b",
   "metadata": {},
   "outputs": [],
   "source": [
    "transcript_df.to_csv(\"transcript_dataframe.csv\", index = False)"
   ]
  }
 ],
 "metadata": {
  "kernelspec": {
   "display_name": "Python 3 (ipykernel)",
   "language": "python",
   "name": "python3"
  },
  "language_info": {
   "codemirror_mode": {
    "name": "ipython",
    "version": 3
   },
   "file_extension": ".py",
   "mimetype": "text/x-python",
   "name": "python",
   "nbconvert_exporter": "python",
   "pygments_lexer": "ipython3",
   "version": "3.11.9"
  }
 },
 "nbformat": 4,
 "nbformat_minor": 5
}
