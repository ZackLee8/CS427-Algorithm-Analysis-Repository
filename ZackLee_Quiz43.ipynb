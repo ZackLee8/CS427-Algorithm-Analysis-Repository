{
 "cells": [
  {
   "cell_type": "code",
   "execution_count": 1,
   "metadata": {},
   "outputs": [],
   "source": [
    "import pandas as pd\n",
    "import numpy as np\n",
    "import glob\n",
    "import matplotlib.pyplot as plt"
   ]
  },
  {
   "cell_type": "code",
   "execution_count": 2,
   "metadata": {},
   "outputs": [
    {
     "data": {
      "text/plain": [
       "['New_books.csv']"
      ]
     },
     "execution_count": 2,
     "metadata": {},
     "output_type": "execute_result"
    }
   ],
   "source": [
    "glob.glob('*.csv')"
   ]
  },
  {
   "cell_type": "markdown",
   "metadata": {},
   "source": [
    "## Load data"
   ]
  },
  {
   "cell_type": "code",
   "execution_count": 3,
   "metadata": {},
   "outputs": [
    {
     "data": {
      "text/html": [
       "<div>\n",
       "<style scoped>\n",
       "    .dataframe tbody tr th:only-of-type {\n",
       "        vertical-align: middle;\n",
       "    }\n",
       "\n",
       "    .dataframe tbody tr th {\n",
       "        vertical-align: top;\n",
       "    }\n",
       "\n",
       "    .dataframe thead th {\n",
       "        text-align: right;\n",
       "    }\n",
       "</style>\n",
       "<table border=\"1\" class=\"dataframe\">\n",
       "  <thead>\n",
       "    <tr style=\"text-align: right;\">\n",
       "      <th></th>\n",
       "      <th>Place of Publication</th>\n",
       "      <th>Date of Publication</th>\n",
       "      <th>Publisher</th>\n",
       "      <th>Title</th>\n",
       "      <th>Author</th>\n",
       "      <th>Flickr URL</th>\n",
       "    </tr>\n",
       "  </thead>\n",
       "  <tbody>\n",
       "    <tr>\n",
       "      <th>0</th>\n",
       "      <td>London</td>\n",
       "      <td>1879</td>\n",
       "      <td>S. Tinsley &amp; Co.</td>\n",
       "      <td>Walter Forbes</td>\n",
       "      <td>AA</td>\n",
       "      <td>http://www.flickr.com/photos/britishlibrary/ta...</td>\n",
       "    </tr>\n",
       "    <tr>\n",
       "      <th>1</th>\n",
       "      <td>London</td>\n",
       "      <td>1868</td>\n",
       "      <td>Virtue &amp; Co.</td>\n",
       "      <td>All For Greed</td>\n",
       "      <td>A. A A.</td>\n",
       "      <td>http://www.flickr.com/photos/britishlibrary/ta...</td>\n",
       "    </tr>\n",
       "    <tr>\n",
       "      <th>2</th>\n",
       "      <td>London</td>\n",
       "      <td>1869</td>\n",
       "      <td>Bradbury, Evans &amp; Co.</td>\n",
       "      <td>Love The Avenger</td>\n",
       "      <td>A. A A.</td>\n",
       "      <td>http://www.flickr.com/photos/britishlibrary/ta...</td>\n",
       "    </tr>\n",
       "    <tr>\n",
       "      <th>3</th>\n",
       "      <td>London</td>\n",
       "      <td>1851</td>\n",
       "      <td>James Darling</td>\n",
       "      <td>Welsh Sketches, Chiefly Ecclesiastical, To The...</td>\n",
       "      <td>E. S A.</td>\n",
       "      <td>http://www.flickr.com/photos/britishlibrary/ta...</td>\n",
       "    </tr>\n",
       "    <tr>\n",
       "      <th>4</th>\n",
       "      <td>London</td>\n",
       "      <td>1857</td>\n",
       "      <td>Wertheim &amp; Macintosh</td>\n",
       "      <td>The World In Which I Live, And My Place In It</td>\n",
       "      <td>E. S A.</td>\n",
       "      <td>http://www.flickr.com/photos/britishlibrary/ta...</td>\n",
       "    </tr>\n",
       "  </tbody>\n",
       "</table>\n",
       "</div>"
      ],
      "text/plain": [
       "  Place of Publication Date of Publication              Publisher  \\\n",
       "0               London               1879        S. Tinsley & Co.   \n",
       "1               London                1868           Virtue & Co.   \n",
       "2               London                1869  Bradbury, Evans & Co.   \n",
       "3               London                1851          James Darling   \n",
       "4               London                1857   Wertheim & Macintosh   \n",
       "\n",
       "                                               Title    Author  \\\n",
       "0                                      Walter Forbes        AA   \n",
       "1                                      All For Greed   A. A A.   \n",
       "2                                   Love The Avenger   A. A A.   \n",
       "3  Welsh Sketches, Chiefly Ecclesiastical, To The...   E. S A.   \n",
       "4      The World In Which I Live, And My Place In It   E. S A.   \n",
       "\n",
       "                                          Flickr URL  \n",
       "0  http://www.flickr.com/photos/britishlibrary/ta...  \n",
       "1  http://www.flickr.com/photos/britishlibrary/ta...  \n",
       "2  http://www.flickr.com/photos/britishlibrary/ta...  \n",
       "3  http://www.flickr.com/photos/britishlibrary/ta...  \n",
       "4  http://www.flickr.com/photos/britishlibrary/ta...  "
      ]
     },
     "execution_count": 3,
     "metadata": {},
     "output_type": "execute_result"
    }
   ],
   "source": [
    "cleaned_books_df = pd.read_csv('New_books.csv')\n",
    "cleaned_books_df.head()"
   ]
  },
  {
   "cell_type": "code",
   "execution_count": 4,
   "metadata": {},
   "outputs": [
    {
     "data": {
      "text/html": [
       "<div>\n",
       "<style scoped>\n",
       "    .dataframe tbody tr th:only-of-type {\n",
       "        vertical-align: middle;\n",
       "    }\n",
       "\n",
       "    .dataframe tbody tr th {\n",
       "        vertical-align: top;\n",
       "    }\n",
       "\n",
       "    .dataframe thead th {\n",
       "        text-align: right;\n",
       "    }\n",
       "</style>\n",
       "<table border=\"1\" class=\"dataframe\">\n",
       "  <thead>\n",
       "    <tr style=\"text-align: right;\">\n",
       "      <th></th>\n",
       "      <th>Place of Publication</th>\n",
       "      <th>Date of Publication</th>\n",
       "      <th>Publisher</th>\n",
       "      <th>Title</th>\n",
       "      <th>Author</th>\n",
       "      <th>Flickr URL</th>\n",
       "    </tr>\n",
       "  </thead>\n",
       "  <tbody>\n",
       "    <tr>\n",
       "      <th>count</th>\n",
       "      <td>8287</td>\n",
       "      <td>7320</td>\n",
       "      <td>4092</td>\n",
       "      <td>8274</td>\n",
       "      <td>6509</td>\n",
       "      <td>8287</td>\n",
       "    </tr>\n",
       "    <tr>\n",
       "      <th>unique</th>\n",
       "      <td>1192</td>\n",
       "      <td>403</td>\n",
       "      <td>1989</td>\n",
       "      <td>8031</td>\n",
       "      <td>4949</td>\n",
       "      <td>8287</td>\n",
       "    </tr>\n",
       "    <tr>\n",
       "      <th>top</th>\n",
       "      <td>London</td>\n",
       "      <td>1897</td>\n",
       "      <td>Macmillan &amp; Co.</td>\n",
       "      <td>Poems</td>\n",
       "      <td>William Shakespeare</td>\n",
       "      <td>http://www.flickr.com/photos/britishlibrary/ta...</td>\n",
       "    </tr>\n",
       "    <tr>\n",
       "      <th>freq</th>\n",
       "      <td>4219</td>\n",
       "      <td>174</td>\n",
       "      <td>85</td>\n",
       "      <td>10</td>\n",
       "      <td>48</td>\n",
       "      <td>1</td>\n",
       "    </tr>\n",
       "  </tbody>\n",
       "</table>\n",
       "</div>"
      ],
      "text/plain": [
       "       Place of Publication Date of Publication        Publisher  Title  \\\n",
       "count                  8287                7320             4092   8274   \n",
       "unique                 1192                 403             1989   8031   \n",
       "top                  London                1897  Macmillan & Co.  Poems   \n",
       "freq                   4219                 174               85     10   \n",
       "\n",
       "                      Author  \\\n",
       "count                   6509   \n",
       "unique                  4949   \n",
       "top      William Shakespeare   \n",
       "freq                      48   \n",
       "\n",
       "                                               Flickr URL  \n",
       "count                                                8287  \n",
       "unique                                               8287  \n",
       "top     http://www.flickr.com/photos/britishlibrary/ta...  \n",
       "freq                                                    1  "
      ]
     },
     "execution_count": 4,
     "metadata": {},
     "output_type": "execute_result"
    }
   ],
   "source": [
    "cleaned_books_df.describe()"
   ]
  },
  {
   "cell_type": "markdown",
   "metadata": {},
   "source": [
    "## 1. Get the top 5 publishers and their published number.\n",
    "To understanding Market Dynamics, identifying the top publishers helps understand the publishing market's dynamics during a specific period. It can indicate which publishers were dominant and how the publishing landscape might have been shaped by their activities."
   ]
  },
  {
   "cell_type": "code",
   "execution_count": 5,
   "metadata": {},
   "outputs": [
    {
     "data": {
      "text/plain": [
       "Publisher\n",
       "Macmillan & Co.                           85\n",
       "London                                    69\n",
       "Privately printed                         53\n",
       "Longmans & Co.                            52\n",
       "Hurst & Blackett                          51\n",
       "                                          ..\n",
       "C. Jacob                                   1\n",
       "H. F. Kelt and Co.                         1\n",
       "J. Wilson and Son                          1\n",
       "R. Clarke Co.                              1\n",
       "Printed by H. Hills, for R. Wellington     1\n",
       "Name: count, Length: 1989, dtype: int64"
      ]
     },
     "execution_count": 5,
     "metadata": {},
     "output_type": "execute_result"
    }
   ],
   "source": [
    "cleaned_books_df['Publisher'].value_counts()"
   ]
  },
  {
   "cell_type": "code",
   "execution_count": 6,
   "metadata": {},
   "outputs": [
    {
     "data": {
      "text/plain": [
       "Publisher\n",
       "Macmillan & Co.      85\n",
       "London               69\n",
       "Privately printed    53\n",
       "Longmans & Co.       52\n",
       "Hurst & Blackett     51\n",
       "Name: count, dtype: int64"
      ]
     },
     "execution_count": 6,
     "metadata": {},
     "output_type": "execute_result"
    }
   ],
   "source": [
    "n = 5\n",
    "publisher_list = cleaned_books_df['Publisher'].value_counts()[:n]\n",
    "publisher_list"
   ]
  },
  {
   "cell_type": "code",
   "execution_count": 7,
   "metadata": {},
   "outputs": [
    {
     "data": {
      "text/plain": [
       "(Index(['Macmillan & Co.', 'London', 'Privately printed', 'Longmans & Co.',\n",
       "        'Hurst & Blackett'],\n",
       "       dtype='object', name='Publisher'),\n",
       " [85, 69, 53, 52, 51])"
      ]
     },
     "execution_count": 7,
     "metadata": {},
     "output_type": "execute_result"
    }
   ],
   "source": [
    "publisher_list.index, publisher_list.to_list()"
   ]
  },
  {
   "cell_type": "code",
   "execution_count": 8,
   "metadata": {},
   "outputs": [
    {
     "data": {
      "text/plain": [
       "<BarContainer object of 5 artists>"
      ]
     },
     "execution_count": 8,
     "metadata": {},
     "output_type": "execute_result"
    },
    {
     "data": {
      "image/png": "[encoded data removed]",
      "text/plain": [
       "<Figure size 640x480 with 1 Axes>"
      ]
     },
     "metadata": {},
     "output_type": "display_data"
    }
   ],
   "source": [
    "plt.bar(publisher_list.index,publisher_list.to_list())"
   ]
  },
  {
   "cell_type": "code",
   "execution_count": 13,
   "metadata": {},
   "outputs": [
    {
     "data": {
      "image/png": "[encoded data removed]",
      "text/plain": [
       "<Figure size 800x600 with 1 Axes>"
      ]
     },
     "metadata": {},
     "output_type": "display_data"
    }
   ],
   "source": [
    "# Creating a bar graph\n",
    "plt.figure(figsize=(8,6))\n",
    "\n",
    "#load your data\n",
    "#Your code:\n",
    "x_list = publisher_list.index\n",
    "y_list = publisher_list.to_list()\n",
    "plt.bar(x_list, y_list, width = 0.2, color = \"red\", align = \"center\", label = \"Top 5 - Publisher\")\n",
    "\n",
    "\n",
    "# Annotating each bar with the corresponding most publish number of items\n",
    "# Your Code:\n",
    "for i in range(len(y_list)):\n",
    "    value = y_list[i]\n",
    "    plt.text(i, value, str(value) + \"+\", ha='center', va='bottom')\n",
    "\n",
    "plt.legend()\n",
    "plt.title('Get the top 5 publishers and their published number.',fontsize=18)\n",
    "plt.xlabel('Publisher',fontsize=17)\n",
    "plt.ylabel('Number of Published Items',fontsize=16)\n",
    "plt.grid(axis='y')\n",
    "\n",
    "plt.show()"
   ]
  },
  {
   "cell_type": "markdown",
   "metadata": {},
   "source": [
    "## Practice 1\n",
    "### 1.1 Identify the top five publishers with the greatest number of books published. \n",
    "### 1.2 Ascertain the year in which each of these publishers achieved their highest sales, along with the total number of books they published in that particular year.\n"
   ]
  },
  {
   "cell_type": "code",
   "execution_count": 14,
   "metadata": {},
   "outputs": [
    {
     "data": {
      "text/plain": [
       "Publisher\n",
       "Macmillan & Co.      85\n",
       "London               69\n",
       "Privately printed    53\n",
       "Longmans & Co.       52\n",
       "Hurst & Blackett     51\n",
       "Name: count, dtype: int64"
      ]
     },
     "execution_count": 14,
     "metadata": {},
     "output_type": "execute_result"
    }
   ],
   "source": [
    "publisher_list"
   ]
  },
  {
   "cell_type": "code",
   "execution_count": 16,
   "metadata": {
    "scrolled": true
   },
   "outputs": [
    {
     "data": {
      "text/plain": [
       "Date of Publication\n",
       "1896    16\n",
       "Name: count, dtype: int64"
      ]
     },
     "execution_count": 16,
     "metadata": {},
     "output_type": "execute_result"
    }
   ],
   "source": [
    "# Selecting the data for the chosen publisher \"Macmillan & Co.\"\n",
    "macdf = cleaned_books_df[cleaned_books_df['Publisher'] == 'Macmillan & Co.']\n",
    "macdf['Date of Publication'].value_counts()[:1]\n"
   ]
  },
  {
   "cell_type": "code",
   "execution_count": 18,
   "metadata": {},
   "outputs": [
    {
     "name": "stdout",
     "output_type": "stream",
     "text": [
      "Macmillan & Co.\n",
      "London\n",
      "Privately printed\n",
      "Longmans & Co.\n",
      "Hurst & Blackett\n"
     ]
    },
    {
     "name": "stderr",
     "output_type": "stream",
     "text": [
      "C:\\Users\\footb\\AppData\\Local\\Temp\\ipykernel_24784\\4052232628.py:7: FutureWarning: Series.__getitem__ treating keys as positions is deprecated. In a future version, integer keys will always be treated as labels (consistent with DataFrame behavior). To access a value by position, use `ser.iloc[pos]`\n",
      "  book_num = year_info[0]\n",
      "C:\\Users\\footb\\AppData\\Local\\Temp\\ipykernel_24784\\4052232628.py:7: FutureWarning: Series.__getitem__ treating keys as positions is deprecated. In a future version, integer keys will always be treated as labels (consistent with DataFrame behavior). To access a value by position, use `ser.iloc[pos]`\n",
      "  book_num = year_info[0]\n",
      "C:\\Users\\footb\\AppData\\Local\\Temp\\ipykernel_24784\\4052232628.py:7: FutureWarning: Series.__getitem__ treating keys as positions is deprecated. In a future version, integer keys will always be treated as labels (consistent with DataFrame behavior). To access a value by position, use `ser.iloc[pos]`\n",
      "  book_num = year_info[0]\n",
      "C:\\Users\\footb\\AppData\\Local\\Temp\\ipykernel_24784\\4052232628.py:7: FutureWarning: Series.__getitem__ treating keys as positions is deprecated. In a future version, integer keys will always be treated as labels (consistent with DataFrame behavior). To access a value by position, use `ser.iloc[pos]`\n",
      "  book_num = year_info[0]\n",
      "C:\\Users\\footb\\AppData\\Local\\Temp\\ipykernel_24784\\4052232628.py:7: FutureWarning: Series.__getitem__ treating keys as positions is deprecated. In a future version, integer keys will always be treated as labels (consistent with DataFrame behavior). To access a value by position, use `ser.iloc[pos]`\n",
      "  book_num = year_info[0]\n"
     ]
    },
    {
     "data": {
      "text/plain": [
       "{'Macmillan & Co.': ['1896', np.int64(16)],\n",
       " 'London': ['1866', np.int64(3)],\n",
       " 'Privately printed': ['1880', np.int64(3)],\n",
       " 'Longmans & Co.': ['1889', np.int64(6)],\n",
       " 'Hurst & Blackett': ['1856', np.int64(3)]}"
      ]
     },
     "execution_count": 18,
     "metadata": {},
     "output_type": "execute_result"
    }
   ],
   "source": [
    "dic = {}\n",
    "for pub in publisher_list.index:\n",
    "    print(pub)\n",
    "    author_books = cleaned_books_df[cleaned_books_df['Publisher'] == pub]\n",
    "    year_info = author_books['Date of Publication'].value_counts()[:1]\n",
    "    year = year_info.index[0]\n",
    "    book_num = year_info[0]\n",
    "    dic[pub] = [year, book_num]\n",
    "\n",
    "dic"
   ]
  },
  {
   "cell_type": "code",
   "execution_count": null,
   "metadata": {},
   "outputs": [],
   "source": []
  },
  {
   "cell_type": "code",
   "execution_count": 23,
   "metadata": {},
   "outputs": [
    {
     "name": "stderr",
     "output_type": "stream",
     "text": [
      "C:\\Users\\footb\\AppData\\Local\\Temp\\ipykernel_24784\\3392532716.py:23: UserWarning: No artists with labels found to put in legend.  Note that artists whose label start with an underscore are ignored when legend() is called with no argument.\n",
      "  plt.legend()\n"
     ]
    },
    {
     "data": {
      "image/png": "[encoded data removed]",
      "text/plain": [
       "<Figure size 800x600 with 1 Axes>"
      ]
     },
     "metadata": {},
     "output_type": "display_data"
    }
   ],
   "source": [
    "publisher_name = list(dic.keys())\n",
    "most_publish_year = [dic[publisher][0] for publisher in dic]\n",
    "publisher_item = [dic[publisher][1] for publisher in dic]\n",
    "# Creating a bar graph\n",
    "plt.figure(figsize=(8,6))\n",
    "\n",
    "#print(publisher_name, most_publish_year, publish_item)\n",
    "#Your code:\n",
    "x_list = publisher_name\n",
    "y_list = publisher_item\n",
    "plt.bar(x_list, y_list, width = 0.2, color = \"teal\", align = \"center\")\n",
    "\n",
    "# Annotating each bar with the corresponding most publish number of items\n",
    "# Your code:\n",
    "for i in range(len(publish_item)):\n",
    "\n",
    "    year = most_publish_year[i]\n",
    "    x_posi = i\n",
    "    y_posi = publish_item[i]\n",
    "    text_value = \"Year - \" + year\n",
    "    plt.text(x_posi, x_posi, text_value, ha='center', va='bottom')\n",
    "\n",
    "plt.legend()\n",
    "plt.title('Publishers amd their most published year with item count',fontsize=18)\n",
    "plt.xlabel('Publisher',fontsize=17)\n",
    "plt.ylabel('Number of Published Items',fontsize=16)\n",
    "plt.grid(axis='y')\n",
    "\n",
    "plt.show()\n",
    "\n"
   ]
  },
  {
   "cell_type": "code",
   "execution_count": null,
   "metadata": {},
   "outputs": [],
   "source": []
  },
  {
   "cell_type": "markdown",
   "metadata": {},
   "source": [
    "## 2. Get the 5 most published place\n",
    "Reason: For contemporary publishers, marketers, and authors, understanding historical publishing centers can provide insights into established markets and potential opportunities for new ventures or expansions."
   ]
  },
  {
   "cell_type": "code",
   "execution_count": 24,
   "metadata": {},
   "outputs": [
    {
     "data": {
      "text/html": [
       "<div>\n",
       "<style scoped>\n",
       "    .dataframe tbody tr th:only-of-type {\n",
       "        vertical-align: middle;\n",
       "    }\n",
       "\n",
       "    .dataframe tbody tr th {\n",
       "        vertical-align: top;\n",
       "    }\n",
       "\n",
       "    .dataframe thead th {\n",
       "        text-align: right;\n",
       "    }\n",
       "</style>\n",
       "<table border=\"1\" class=\"dataframe\">\n",
       "  <thead>\n",
       "    <tr style=\"text-align: right;\">\n",
       "      <th></th>\n",
       "      <th>Place of Publication</th>\n",
       "      <th>Date of Publication</th>\n",
       "      <th>Publisher</th>\n",
       "      <th>Title</th>\n",
       "      <th>Author</th>\n",
       "      <th>Flickr URL</th>\n",
       "    </tr>\n",
       "  </thead>\n",
       "  <tbody>\n",
       "    <tr>\n",
       "      <th>0</th>\n",
       "      <td>London</td>\n",
       "      <td>1879</td>\n",
       "      <td>S. Tinsley &amp; Co.</td>\n",
       "      <td>Walter Forbes</td>\n",
       "      <td>AA</td>\n",
       "      <td>http://www.flickr.com/photos/britishlibrary/ta...</td>\n",
       "    </tr>\n",
       "    <tr>\n",
       "      <th>1</th>\n",
       "      <td>London</td>\n",
       "      <td>1868</td>\n",
       "      <td>Virtue &amp; Co.</td>\n",
       "      <td>All For Greed</td>\n",
       "      <td>A. A A.</td>\n",
       "      <td>http://www.flickr.com/photos/britishlibrary/ta...</td>\n",
       "    </tr>\n",
       "    <tr>\n",
       "      <th>2</th>\n",
       "      <td>London</td>\n",
       "      <td>1869</td>\n",
       "      <td>Bradbury, Evans &amp; Co.</td>\n",
       "      <td>Love The Avenger</td>\n",
       "      <td>A. A A.</td>\n",
       "      <td>http://www.flickr.com/photos/britishlibrary/ta...</td>\n",
       "    </tr>\n",
       "    <tr>\n",
       "      <th>3</th>\n",
       "      <td>London</td>\n",
       "      <td>1851</td>\n",
       "      <td>James Darling</td>\n",
       "      <td>Welsh Sketches, Chiefly Ecclesiastical, To The...</td>\n",
       "      <td>E. S A.</td>\n",
       "      <td>http://www.flickr.com/photos/britishlibrary/ta...</td>\n",
       "    </tr>\n",
       "    <tr>\n",
       "      <th>4</th>\n",
       "      <td>London</td>\n",
       "      <td>1857</td>\n",
       "      <td>Wertheim &amp; Macintosh</td>\n",
       "      <td>The World In Which I Live, And My Place In It</td>\n",
       "      <td>E. S A.</td>\n",
       "      <td>http://www.flickr.com/photos/britishlibrary/ta...</td>\n",
       "    </tr>\n",
       "  </tbody>\n",
       "</table>\n",
       "</div>"
      ],
      "text/plain": [
       "  Place of Publication Date of Publication              Publisher  \\\n",
       "0               London               1879        S. Tinsley & Co.   \n",
       "1               London                1868           Virtue & Co.   \n",
       "2               London                1869  Bradbury, Evans & Co.   \n",
       "3               London                1851          James Darling   \n",
       "4               London                1857   Wertheim & Macintosh   \n",
       "\n",
       "                                               Title    Author  \\\n",
       "0                                      Walter Forbes        AA   \n",
       "1                                      All For Greed   A. A A.   \n",
       "2                                   Love The Avenger   A. A A.   \n",
       "3  Welsh Sketches, Chiefly Ecclesiastical, To The...   E. S A.   \n",
       "4      The World In Which I Live, And My Place In It   E. S A.   \n",
       "\n",
       "                                          Flickr URL  \n",
       "0  http://www.flickr.com/photos/britishlibrary/ta...  \n",
       "1  http://www.flickr.com/photos/britishlibrary/ta...  \n",
       "2  http://www.flickr.com/photos/britishlibrary/ta...  \n",
       "3  http://www.flickr.com/photos/britishlibrary/ta...  \n",
       "4  http://www.flickr.com/photos/britishlibrary/ta...  "
      ]
     },
     "execution_count": 24,
     "metadata": {},
     "output_type": "execute_result"
    }
   ],
   "source": [
    "cleaned_books_df.head()"
   ]
  },
  {
   "cell_type": "code",
   "execution_count": 25,
   "metadata": {},
   "outputs": [
    {
     "data": {
      "text/html": [
       "<div>\n",
       "<style scoped>\n",
       "    .dataframe tbody tr th:only-of-type {\n",
       "        vertical-align: middle;\n",
       "    }\n",
       "\n",
       "    .dataframe tbody tr th {\n",
       "        vertical-align: top;\n",
       "    }\n",
       "\n",
       "    .dataframe thead th {\n",
       "        text-align: right;\n",
       "    }\n",
       "</style>\n",
       "<table border=\"1\" class=\"dataframe\">\n",
       "  <thead>\n",
       "    <tr style=\"text-align: right;\">\n",
       "      <th></th>\n",
       "      <th>Place of Publication</th>\n",
       "      <th>Date of Publication</th>\n",
       "      <th>Publisher</th>\n",
       "      <th>Title</th>\n",
       "      <th>Author</th>\n",
       "      <th>Flickr URL</th>\n",
       "    </tr>\n",
       "  </thead>\n",
       "  <tbody>\n",
       "    <tr>\n",
       "      <th>count</th>\n",
       "      <td>8287</td>\n",
       "      <td>7320</td>\n",
       "      <td>4092</td>\n",
       "      <td>8274</td>\n",
       "      <td>6509</td>\n",
       "      <td>8287</td>\n",
       "    </tr>\n",
       "    <tr>\n",
       "      <th>unique</th>\n",
       "      <td>1192</td>\n",
       "      <td>403</td>\n",
       "      <td>1989</td>\n",
       "      <td>8031</td>\n",
       "      <td>4949</td>\n",
       "      <td>8287</td>\n",
       "    </tr>\n",
       "    <tr>\n",
       "      <th>top</th>\n",
       "      <td>London</td>\n",
       "      <td>1897</td>\n",
       "      <td>Macmillan &amp; Co.</td>\n",
       "      <td>Poems</td>\n",
       "      <td>William Shakespeare</td>\n",
       "      <td>http://www.flickr.com/photos/britishlibrary/ta...</td>\n",
       "    </tr>\n",
       "    <tr>\n",
       "      <th>freq</th>\n",
       "      <td>4219</td>\n",
       "      <td>174</td>\n",
       "      <td>85</td>\n",
       "      <td>10</td>\n",
       "      <td>48</td>\n",
       "      <td>1</td>\n",
       "    </tr>\n",
       "  </tbody>\n",
       "</table>\n",
       "</div>"
      ],
      "text/plain": [
       "       Place of Publication Date of Publication        Publisher  Title  \\\n",
       "count                  8287                7320             4092   8274   \n",
       "unique                 1192                 403             1989   8031   \n",
       "top                  London                1897  Macmillan & Co.  Poems   \n",
       "freq                   4219                 174               85     10   \n",
       "\n",
       "                      Author  \\\n",
       "count                   6509   \n",
       "unique                  4949   \n",
       "top      William Shakespeare   \n",
       "freq                      48   \n",
       "\n",
       "                                               Flickr URL  \n",
       "count                                                8287  \n",
       "unique                                               8287  \n",
       "top     http://www.flickr.com/photos/britishlibrary/ta...  \n",
       "freq                                                    1  "
      ]
     },
     "execution_count": 25,
     "metadata": {},
     "output_type": "execute_result"
    }
   ],
   "source": [
    "cleaned_books_df.describe()"
   ]
  },
  {
   "cell_type": "code",
   "execution_count": 26,
   "metadata": {},
   "outputs": [
    {
     "data": {
      "text/plain": [
       "Place of Publication\n",
       "London       4219\n",
       "Paris         479\n",
       "Edinburgh     208\n",
       "New York      177\n",
       "Leipzig       119\n",
       "Name: count, dtype: int64"
      ]
     },
     "execution_count": 26,
     "metadata": {},
     "output_type": "execute_result"
    }
   ],
   "source": [
    "n = 5\n",
    "publisher_place_list = cleaned_books_df['Place of Publication'].value_counts()[:n]\n",
    "publisher_place_list"
   ]
  },
  {
   "cell_type": "code",
   "execution_count": 30,
   "metadata": {},
   "outputs": [
    {
     "data": {
      "text/plain": [
       "np.int64(3085)"
      ]
     },
     "execution_count": 30,
     "metadata": {},
     "output_type": "execute_result"
    }
   ],
   "source": [
    "others_place_number = cleaned_books_df['Place of Publication'].value_counts()[5:].sum()\n",
    "others_place_number"
   ]
  },
  {
   "cell_type": "code",
   "execution_count": 34,
   "metadata": {},
   "outputs": [
    {
     "data": {
      "text/plain": [
       "{'London': 4219,\n",
       " 'Paris': 479,\n",
       " 'Edinburgh': 208,\n",
       " 'New York': 177,\n",
       " 'Leipzig': 119,\n",
       " 'Others': np.int64(3085)}"
      ]
     },
     "execution_count": 34,
     "metadata": {},
     "output_type": "execute_result"
    }
   ],
   "source": [
    "#create publish_place_data\n",
    "def get_publish_place_data(n, df):\n",
    "    publisher_place_list = df['Place of Publication'].value_counts()[:n]\n",
    "    others_place_number = df['Place of Publication'].value_counts()[n:].sum()\n",
    "\n",
    "    dic = {}\n",
    "    for pub, count in publisher_place_list.items(): \n",
    "        dic[pub] = count\n",
    "\n",
    "    dic[\"Others\"] = others_place_number  \n",
    "\n",
    "    return dic\n",
    "\n",
    "    \n",
    "get_publish_place_data(5,cleaned_books_df)"
   ]
  },
  {
   "cell_type": "code",
   "execution_count": 38,
   "metadata": {},
   "outputs": [
    {
     "name": "stdout",
     "output_type": "stream",
     "text": [
      "['London', 'Paris', 'Edinburgh', 'New York', 'Leipzig', 'Others']\n",
      "[4219, 479, 208, 177, 119, np.int64(3085)]\n"
     ]
    },
    {
     "data": {
      "image/png": "[encoded data removed]",
      "text/plain": [
       "<Figure size 800x800 with 1 Axes>"
      ]
     },
     "metadata": {},
     "output_type": "display_data"
    }
   ],
   "source": [
    "# Pie Chart Analysis: \n",
    "\n",
    "# Sample data provided earlier (assuming the same structure as the actual dataset)\n",
    "place_of_data = get_publish_place_data(5,cleaned_books_df)\n",
    "\n",
    "# Extracting data for pie chart\n",
    "places = list(place_of_data.keys())\n",
    "publications = [place_of_data[place] for place in places]\n",
    "print(places)\n",
    "print(publications)\n",
    "\n",
    "\n",
    "# Creating a pie chart\n",
    "plt.figure(figsize = (8,8))\n",
    "# Your Pie chart code:\n",
    "plt.pie(publications, labels = places, autopct = \"%1.1f%%\", startangle = 140, textprops = {'fontsize' : 15})\n",
    "\n",
    "\n",
    "plt.title('Distribution of Publications by Top 5 places', fontsize =20)\n",
    "plt.show()\n",
    "\n"
   ]
  },
  {
   "cell_type": "code",
   "execution_count": null,
   "metadata": {},
   "outputs": [],
   "source": []
  },
  {
   "cell_type": "markdown",
   "metadata": {},
   "source": [
    "### 3.1 Demo for  `.groupby`  function"
   ]
  },
  {
   "cell_type": "code",
   "execution_count": 39,
   "metadata": {},
   "outputs": [
    {
     "data": {
      "text/html": [
       "<div>\n",
       "<style scoped>\n",
       "    .dataframe tbody tr th:only-of-type {\n",
       "        vertical-align: middle;\n",
       "    }\n",
       "\n",
       "    .dataframe tbody tr th {\n",
       "        vertical-align: top;\n",
       "    }\n",
       "\n",
       "    .dataframe thead th {\n",
       "        text-align: right;\n",
       "    }\n",
       "</style>\n",
       "<table border=\"1\" class=\"dataframe\">\n",
       "  <thead>\n",
       "    <tr style=\"text-align: right;\">\n",
       "      <th></th>\n",
       "      <th>Category</th>\n",
       "      <th>Values</th>\n",
       "    </tr>\n",
       "  </thead>\n",
       "  <tbody>\n",
       "    <tr>\n",
       "      <th>0</th>\n",
       "      <td>A</td>\n",
       "      <td>10</td>\n",
       "    </tr>\n",
       "    <tr>\n",
       "      <th>1</th>\n",
       "      <td>B</td>\n",
       "      <td>20</td>\n",
       "    </tr>\n",
       "    <tr>\n",
       "      <th>2</th>\n",
       "      <td>A</td>\n",
       "      <td>30</td>\n",
       "    </tr>\n",
       "    <tr>\n",
       "      <th>3</th>\n",
       "      <td>B</td>\n",
       "      <td>40</td>\n",
       "    </tr>\n",
       "  </tbody>\n",
       "</table>\n",
       "</div>"
      ],
      "text/plain": [
       "  Category  Values\n",
       "0        A      10\n",
       "1        B      20\n",
       "2        A      30\n",
       "3        B      40"
      ]
     },
     "execution_count": 39,
     "metadata": {},
     "output_type": "execute_result"
    }
   ],
   "source": [
    "# Sample DataFrame\n",
    "df = pd.DataFrame({'Category': ['A', 'B', 'A', 'B'],\n",
    "                   'Values': [10, 20, 30, 40]})\n",
    "\n",
    "df"
   ]
  },
  {
   "cell_type": "code",
   "execution_count": 40,
   "metadata": {},
   "outputs": [
    {
     "name": "stdout",
     "output_type": "stream",
     "text": [
      "Category\n",
      "A    2\n",
      "B    2\n",
      "dtype: int64\n"
     ]
    }
   ],
   "source": [
    "# Grouping by 'Category' and calculating the size of each group\n",
    "grouped = df.groupby('Category').size()\n",
    "\n",
    "print(grouped)"
   ]
  },
  {
   "cell_type": "code",
   "execution_count": 41,
   "metadata": {},
   "outputs": [
    {
     "name": "stdout",
     "output_type": "stream",
     "text": [
      "          Values\n",
      "Category        \n",
      "A             40\n",
      "B             60\n"
     ]
    }
   ],
   "source": [
    "# Grouping by 'Category' and calculating the mean of each group\n",
    "grouped = df.groupby('Category').sum()\n",
    "\n",
    "print(grouped)"
   ]
  },
  {
   "cell_type": "markdown",
   "metadata": {},
   "source": [
    "## 3. Show the yearly trend in the number of publications"
   ]
  },
  {
   "cell_type": "markdown",
   "metadata": {},
   "source": [
    "### 3.2 Use `.groupby` on Books data"
   ]
  },
  {
   "cell_type": "code",
   "execution_count": 42,
   "metadata": {
    "scrolled": true
   },
   "outputs": [
    {
     "data": {
      "text/html": [
       "<div>\n",
       "<style scoped>\n",
       "    .dataframe tbody tr th:only-of-type {\n",
       "        vertical-align: middle;\n",
       "    }\n",
       "\n",
       "    .dataframe tbody tr th {\n",
       "        vertical-align: top;\n",
       "    }\n",
       "\n",
       "    .dataframe thead th {\n",
       "        text-align: right;\n",
       "    }\n",
       "</style>\n",
       "<table border=\"1\" class=\"dataframe\">\n",
       "  <thead>\n",
       "    <tr style=\"text-align: right;\">\n",
       "      <th></th>\n",
       "      <th>Place of Publication</th>\n",
       "      <th>Date of Publication</th>\n",
       "      <th>Publisher</th>\n",
       "      <th>Title</th>\n",
       "      <th>Author</th>\n",
       "      <th>Flickr URL</th>\n",
       "    </tr>\n",
       "  </thead>\n",
       "  <tbody>\n",
       "    <tr>\n",
       "      <th>0</th>\n",
       "      <td>London</td>\n",
       "      <td>1879</td>\n",
       "      <td>S. Tinsley &amp; Co.</td>\n",
       "      <td>Walter Forbes</td>\n",
       "      <td>AA</td>\n",
       "      <td>http://www.flickr.com/photos/britishlibrary/ta...</td>\n",
       "    </tr>\n",
       "    <tr>\n",
       "      <th>1</th>\n",
       "      <td>London</td>\n",
       "      <td>1868</td>\n",
       "      <td>Virtue &amp; Co.</td>\n",
       "      <td>All For Greed</td>\n",
       "      <td>A. A A.</td>\n",
       "      <td>http://www.flickr.com/photos/britishlibrary/ta...</td>\n",
       "    </tr>\n",
       "    <tr>\n",
       "      <th>2</th>\n",
       "      <td>London</td>\n",
       "      <td>1869</td>\n",
       "      <td>Bradbury, Evans &amp; Co.</td>\n",
       "      <td>Love The Avenger</td>\n",
       "      <td>A. A A.</td>\n",
       "      <td>http://www.flickr.com/photos/britishlibrary/ta...</td>\n",
       "    </tr>\n",
       "    <tr>\n",
       "      <th>3</th>\n",
       "      <td>London</td>\n",
       "      <td>1851</td>\n",
       "      <td>James Darling</td>\n",
       "      <td>Welsh Sketches, Chiefly Ecclesiastical, To The...</td>\n",
       "      <td>E. S A.</td>\n",
       "      <td>http://www.flickr.com/photos/britishlibrary/ta...</td>\n",
       "    </tr>\n",
       "    <tr>\n",
       "      <th>4</th>\n",
       "      <td>London</td>\n",
       "      <td>1857</td>\n",
       "      <td>Wertheim &amp; Macintosh</td>\n",
       "      <td>The World In Which I Live, And My Place In It</td>\n",
       "      <td>E. S A.</td>\n",
       "      <td>http://www.flickr.com/photos/britishlibrary/ta...</td>\n",
       "    </tr>\n",
       "  </tbody>\n",
       "</table>\n",
       "</div>"
      ],
      "text/plain": [
       "  Place of Publication Date of Publication              Publisher  \\\n",
       "0               London               1879        S. Tinsley & Co.   \n",
       "1               London                1868           Virtue & Co.   \n",
       "2               London                1869  Bradbury, Evans & Co.   \n",
       "3               London                1851          James Darling   \n",
       "4               London                1857   Wertheim & Macintosh   \n",
       "\n",
       "                                               Title    Author  \\\n",
       "0                                      Walter Forbes        AA   \n",
       "1                                      All For Greed   A. A A.   \n",
       "2                                   Love The Avenger   A. A A.   \n",
       "3  Welsh Sketches, Chiefly Ecclesiastical, To The...   E. S A.   \n",
       "4      The World In Which I Live, And My Place In It   E. S A.   \n",
       "\n",
       "                                          Flickr URL  \n",
       "0  http://www.flickr.com/photos/britishlibrary/ta...  \n",
       "1  http://www.flickr.com/photos/britishlibrary/ta...  \n",
       "2  http://www.flickr.com/photos/britishlibrary/ta...  \n",
       "3  http://www.flickr.com/photos/britishlibrary/ta...  \n",
       "4  http://www.flickr.com/photos/britishlibrary/ta...  "
      ]
     },
     "execution_count": 42,
     "metadata": {},
     "output_type": "execute_result"
    }
   ],
   "source": [
    "cleaned_books_df.head()"
   ]
  },
  {
   "cell_type": "code",
   "execution_count": 43,
   "metadata": {},
   "outputs": [
    {
     "data": {
      "text/plain": [
       "0       1879 \n",
       "1        1868\n",
       "2        1869\n",
       "3        1851\n",
       "4        1857\n",
       "        ...  \n",
       "8282     1838\n",
       "8283     1831\n",
       "8284      NaN\n",
       "8285     1834\n",
       "8286     1834\n",
       "Name: Date of Publication, Length: 8287, dtype: object"
      ]
     },
     "execution_count": 43,
     "metadata": {},
     "output_type": "execute_result"
    }
   ],
   "source": [
    "cleaned_books_df['Date of Publication']"
   ]
  },
  {
   "cell_type": "code",
   "execution_count": 44,
   "metadata": {},
   "outputs": [
    {
     "data": {
      "text/plain": [
       "Date of Publication\n",
       "112. G. & W. B. Whittaker    1\n",
       "1510?]                       1\n",
       "1540                         1\n",
       "1570                         1\n",
       "1592                         1\n",
       "                            ..\n",
       "1900]                        1\n",
       "1911.                        1\n",
       "1915                         1\n",
       "MDCCCC.                      1\n",
       "c.1825]                      1\n",
       "Length: 403, dtype: int64"
      ]
     },
     "execution_count": 44,
     "metadata": {},
     "output_type": "execute_result"
    }
   ],
   "source": [
    "yearly_publication_counts = cleaned_books_df.groupby('Date of Publication').size()\n",
    "yearly_publication_counts"
   ]
  },
  {
   "cell_type": "code",
   "execution_count": 45,
   "metadata": {
    "scrolled": true
   },
   "outputs": [
    {
     "name": "stdout",
     "output_type": "stream",
     "text": [
      "112. G. & W. B. Whittaker <class 'str'>\n",
      "1510?] <class 'str'>\n",
      "1540 <class 'str'>\n",
      "1570  <class 'str'>\n",
      "1592 <class 'str'>\n",
      "1602 <class 'str'>\n",
      "1607 <class 'str'>\n",
      "1625 <class 'str'>\n",
      "1628 <class 'str'>\n",
      "1631 <class 'str'>\n",
      "1632 <class 'str'>\n",
      "1633 <class 'str'>\n",
      "1635 <class 'str'>\n",
      "1637 <class 'str'>\n",
      "1638 <class 'str'>\n",
      "1639 <class 'str'>\n",
      "1640 <class 'str'>\n",
      "1641 <class 'str'>\n",
      "1641?] <class 'str'>\n",
      "1647 <class 'str'>\n",
      "1647?] <class 'str'>\n",
      "1648 <class 'str'>\n",
      "1651 <class 'str'>\n",
      "1653 <class 'str'>\n",
      "1654 <class 'str'>\n",
      "1654  <class 'str'>\n",
      "1656 <class 'str'>\n",
      "1656.  <class 'str'>\n",
      "1657 <class 'str'>\n",
      "1658 <class 'str'>\n",
      "1660 <class 'str'>\n",
      "1661 <class 'str'>\n",
      "1662 <class 'str'>\n",
      "1663 <class 'str'>\n",
      "1664 <class 'str'>\n",
      "1667 <class 'str'>\n",
      "1670 <class 'str'>\n",
      "1671 <class 'str'>\n",
      "1672 <class 'str'>\n",
      "1673 <class 'str'>\n",
      "1674 <class 'str'>\n",
      "1675 <class 'str'>\n",
      "1676 <class 'str'>\n",
      "1677 <class 'str'>\n",
      "1678 <class 'str'>\n",
      "1678?] <class 'str'>\n",
      "1679 <class 'str'>\n",
      "1680 <class 'str'>\n",
      "1681 <class 'str'>\n",
      "1682 <class 'str'>\n",
      "1683 <class 'str'>\n",
      "1684 <class 'str'>\n",
      "1685 <class 'str'>\n",
      "1686 <class 'str'>\n",
      "1687 <class 'str'>\n",
      "1688 <class 'str'>\n",
      "1689 <class 'str'>\n",
      "1690 <class 'str'>\n",
      "1691 <class 'str'>\n",
      "1692 <class 'str'>\n",
      "1693 <class 'str'>\n",
      "1694 <class 'str'>\n",
      "1694  <class 'str'>\n",
      "1695 <class 'str'>\n",
      "1696 <class 'str'>\n",
      "1697 <class 'str'>\n",
      "1698 <class 'str'>\n",
      "1699 <class 'str'>\n",
      "17 vols. University Press <class 'str'>\n",
      "1700 <class 'str'>\n",
      "1701 <class 'str'>\n",
      "1702 <class 'str'>\n",
      "1703 <class 'str'>\n",
      "1704 <class 'str'>\n",
      "1705 <class 'str'>\n",
      "1707 <class 'str'>\n",
      "1707  <class 'str'>\n",
      "1708 <class 'str'>\n",
      "1709 <class 'str'>\n",
      "1710 <class 'str'>\n",
      "1713 <class 'str'>\n",
      "1716 <class 'str'>\n",
      "1717 <class 'str'>\n",
      "1718 <class 'str'>\n",
      "1719 <class 'str'>\n",
      "1720 <class 'str'>\n",
      "1721 <class 'str'>\n",
      "1722 <class 'str'>\n",
      "1724 <class 'str'>\n",
      "1725 <class 'str'>\n",
      "1728 <class 'str'>\n",
      "1729 <class 'str'>\n",
      "1731 <class 'str'>\n",
      "1732 <class 'str'>\n",
      "1733 <class 'str'>\n",
      "1734 <class 'str'>\n",
      "1735 <class 'str'>\n",
      "1736 <class 'str'>\n",
      "1737 <class 'str'>\n",
      "1738 <class 'str'>\n",
      "1739 <class 'str'>\n",
      "1740 <class 'str'>\n",
      "1741 <class 'str'>\n",
      "1742 <class 'str'>\n",
      "1743 <class 'str'>\n",
      "1744 <class 'str'>\n",
      "1746 <class 'str'>\n",
      "1747 <class 'str'>\n",
      "1748 <class 'str'>\n",
      "1748  <class 'str'>\n",
      "1749 <class 'str'>\n",
      "1750 <class 'str'>\n",
      "1751 <class 'str'>\n",
      "1752 <class 'str'>\n",
      "1753 <class 'str'>\n",
      "1754 <class 'str'>\n",
      "1755 <class 'str'>\n",
      "1756 <class 'str'>\n",
      "1757 <class 'str'>\n",
      "1758 <class 'str'>\n",
      "1759 <class 'str'>\n",
      "1759.] <class 'str'>\n",
      "1760 <class 'str'>\n",
      "1761 <class 'str'>\n",
      "1762 <class 'str'>\n",
      "1763 <class 'str'>\n",
      "1764 <class 'str'>\n",
      "1765 <class 'str'>\n",
      "1766 <class 'str'>\n",
      "1767 <class 'str'>\n",
      "1768 <class 'str'>\n",
      "1769 <class 'str'>\n",
      "1770 <class 'str'>\n",
      "1770  <class 'str'>\n",
      "1771 <class 'str'>\n",
      "1772 <class 'str'>\n",
      "1773 <class 'str'>\n",
      "1774 <class 'str'>\n",
      "1775 <class 'str'>\n",
      "1776 <class 'str'>\n",
      "1777 <class 'str'>\n",
      "1778 <class 'str'>\n",
      "1779 <class 'str'>\n",
      "1779.] <class 'str'>\n",
      "1780 <class 'str'>\n",
      "1781 <class 'str'>\n",
      "1782 <class 'str'>\n",
      "1783 <class 'str'>\n",
      "1784 <class 'str'>\n",
      "1785 <class 'str'>\n",
      "1786 <class 'str'>\n",
      "1787 <class 'str'>\n",
      "1788 <class 'str'>\n",
      "1788.] <class 'str'>\n",
      "1789 <class 'str'>\n",
      "1790 <class 'str'>\n",
      "1791 <class 'str'>\n",
      "1792 <class 'str'>\n",
      "1793 <class 'str'>\n",
      "1794 <class 'str'>\n",
      "1795 <class 'str'>\n",
      "1796 <class 'str'>\n",
      "1797 <class 'str'>\n",
      "1798 <class 'str'>\n",
      "1799 <class 'str'>\n",
      "1800 <class 'str'>\n",
      "1801 <class 'str'>\n",
      "1802 <class 'str'>\n",
      "1802.] <class 'str'>\n",
      "1803 <class 'str'>\n",
      "1803?] <class 'str'>\n",
      "1804 <class 'str'>\n",
      "1805 <class 'str'>\n",
      "1805] <class 'str'>\n",
      "1806 <class 'str'>\n",
      "1807 <class 'str'>\n",
      "1808 <class 'str'>\n",
      "1808  <class 'str'>\n",
      "1809 <class 'str'>\n",
      "1810 <class 'str'>\n",
      "1811 <class 'str'>\n",
      "1812 <class 'str'>\n",
      "1813 <class 'str'>\n",
      "1813.] <class 'str'>\n",
      "1813?] <class 'str'>\n",
      "1814 <class 'str'>\n",
      "1814.] <class 'str'>\n",
      "1815 <class 'str'>\n",
      "1816 <class 'str'>\n",
      "1817 <class 'str'>\n",
      "1818 <class 'str'>\n",
      "1818.] <class 'str'>\n",
      "1818?] <class 'str'>\n",
      "1818] <class 'str'>\n",
      "1819 <class 'str'>\n",
      "1819.] <class 'str'>\n",
      "1820 <class 'str'>\n",
      "1820  <class 'str'>\n",
      "1820?] <class 'str'>\n",
      "1821 <class 'str'>\n",
      "1822 <class 'str'>\n",
      "1823 <class 'str'>\n",
      "1824 <class 'str'>\n",
      "1824.] <class 'str'>\n",
      "1825 <class 'str'>\n",
      "1826 <class 'str'>\n",
      "1827 <class 'str'>\n",
      "1827?] <class 'str'>\n",
      "1828 <class 'str'>\n",
      "1828] <class 'str'>\n",
      "1829 <class 'str'>\n",
      "1829.] <class 'str'>\n",
      "1829] <class 'str'>\n",
      "1830 <class 'str'>\n",
      "1830?] <class 'str'>\n",
      "1831 <class 'str'>\n",
      "1832 <class 'str'>\n",
      "1832] <class 'str'>\n",
      "1833 <class 'str'>\n",
      "1834 <class 'str'>\n",
      "1834?] <class 'str'>\n",
      "1835 <class 'str'>\n",
      "1835?] <class 'str'>\n",
      "1836 <class 'str'>\n",
      "1836] <class 'str'>\n",
      "1837 <class 'str'>\n",
      "1837?] <class 'str'>\n",
      "1837] <class 'str'>\n",
      "1838 <class 'str'>\n",
      "1839 <class 'str'>\n",
      "1839] <class 'str'>\n",
      "1840 <class 'str'>\n",
      "1840] <class 'str'>\n",
      "1841 <class 'str'>\n",
      "1842 <class 'str'>\n",
      "1843 <class 'str'>\n",
      "1844 <class 'str'>\n",
      "1844  <class 'str'>\n",
      "1844?] <class 'str'>\n",
      "1845 <class 'str'>\n",
      "1846 <class 'str'>\n",
      "1846?] <class 'str'>\n",
      "1846] <class 'str'>\n",
      "1847 <class 'str'>\n",
      "1847  <class 'str'>\n",
      "1848 <class 'str'>\n",
      "1848  <class 'str'>\n",
      "1848?] <class 'str'>\n",
      "1848] <class 'str'>\n",
      "1849 <class 'str'>\n",
      "1849?] <class 'str'>\n",
      "1850 <class 'str'>\n",
      "1850  <class 'str'>\n",
      "1850] <class 'str'>\n",
      "1851 <class 'str'>\n",
      "1851] <class 'str'>\n",
      "1852 <class 'str'>\n",
      "1852] <class 'str'>\n",
      "1853 <class 'str'>\n",
      "1853  <class 'str'>\n",
      "1853] <class 'str'>\n",
      "1854 <class 'str'>\n",
      "1855 <class 'str'>\n",
      "1855  <class 'str'>\n",
      "1855] <class 'str'>\n",
      "1856 <class 'str'>\n",
      "1856  <class 'str'>\n",
      "1856] <class 'str'>\n",
      "1857 <class 'str'>\n",
      "1857  <class 'str'>\n",
      "1858 <class 'str'>\n",
      "1858  <class 'str'>\n",
      "1858?] <class 'str'>\n",
      "1858] <class 'str'>\n",
      "1859 <class 'str'>\n",
      "1859  <class 'str'>\n",
      "1860 <class 'str'>\n",
      "1860  <class 'str'>\n",
      "1860/3 <class 'str'>\n",
      "1860?] <class 'str'>\n",
      "1860] <class 'str'>\n",
      "1861 <class 'str'>\n",
      "1861  <class 'str'>\n",
      "1862 <class 'str'>\n",
      "1862  <class 'str'>\n",
      "1862] <class 'str'>\n",
      "1863 <class 'str'>\n",
      "1863] <class 'str'>\n",
      "1864 <class 'str'>\n",
      "1864  <class 'str'>\n",
      "1865 <class 'str'>\n",
      "1865  <class 'str'>\n",
      "1865] <class 'str'>\n",
      "1866 <class 'str'>\n",
      "1866  <class 'str'>\n",
      "1866.] <class 'str'>\n",
      "1866] <class 'str'>\n",
      "1867 <class 'str'>\n",
      "1867  <class 'str'>\n",
      "1867?] <class 'str'>\n",
      "1867] <class 'str'>\n",
      "1868 <class 'str'>\n",
      "1868  <class 'str'>\n",
      "1868.] <class 'str'>\n",
      "1869 <class 'str'>\n",
      "1869  <class 'str'>\n",
      "1869] <class 'str'>\n",
      "1870 <class 'str'>\n",
      "1870  <class 'str'>\n",
      "1870.] <class 'str'>\n",
      "1871 <class 'str'>\n",
      "1871  <class 'str'>\n",
      "1871] <class 'str'>\n",
      "1872 <class 'str'>\n",
      "1872  <class 'str'>\n",
      "1873 <class 'str'>\n",
      "1873] <class 'str'>\n",
      "1874 <class 'str'>\n",
      "1874] <class 'str'>\n",
      "1875 <class 'str'>\n",
      "1875  <class 'str'>\n",
      "1875.] <class 'str'>\n",
      "1875?] <class 'str'>\n",
      "1876 <class 'str'>\n",
      "1876  <class 'str'>\n",
      "1876] <class 'str'>\n",
      "1877 <class 'str'>\n",
      "1877  <class 'str'>\n",
      "1878 <class 'str'>\n",
      "1878  <class 'str'>\n",
      "1878] <class 'str'>\n",
      "1879 <class 'str'>\n",
      "1879  <class 'str'>\n",
      "1879] <class 'str'>\n",
      "1880 <class 'str'>\n",
      "1880  <class 'str'>\n",
      "1880] <class 'str'>\n",
      "1881 <class 'str'>\n",
      "1881  <class 'str'>\n",
      "1881] <class 'str'>\n",
      "1882 <class 'str'>\n",
      "1882  <class 'str'>\n",
      "1882.] <class 'str'>\n",
      "1882] <class 'str'>\n",
      "1883 <class 'str'>\n",
      "1883  <class 'str'>\n",
      "1884 <class 'str'>\n",
      "1884  <class 'str'>\n",
      "1884] <class 'str'>\n",
      "1885 <class 'str'>\n",
      "1885  <class 'str'>\n",
      "1885.] <class 'str'>\n",
      "1885] <class 'str'>\n",
      "1886 <class 'str'>\n",
      "1886  <class 'str'>\n",
      "1886] <class 'str'>\n",
      "1887 <class 'str'>\n",
      "1887  <class 'str'>\n",
      "1887] <class 'str'>\n",
      "1888 <class 'str'>\n",
      "1888  <class 'str'>\n",
      "1888.] <class 'str'>\n",
      "1888] <class 'str'>\n",
      "1889 <class 'str'>\n",
      "1889  <class 'str'>\n",
      "1889] <class 'str'>\n",
      "1890 <class 'str'>\n",
      "1890  <class 'str'>\n",
      "1890] <class 'str'>\n",
      "1891 <class 'str'>\n",
      "1891  <class 'str'>\n",
      "1891] <class 'str'>\n",
      "1892 <class 'str'>\n",
      "1892  <class 'str'>\n",
      "1892.] <class 'str'>\n",
      "1892] <class 'str'>\n",
      "1893 <class 'str'>\n",
      "1893  <class 'str'>\n",
      "1893] <class 'str'>\n",
      "1894 <class 'str'>\n",
      "1894  <class 'str'>\n",
      "1894.] <class 'str'>\n",
      "1894] <class 'str'>\n",
      "1895 <class 'str'>\n",
      "1895  <class 'str'>\n",
      "1895] <class 'str'>\n",
      "1896 <class 'str'>\n",
      "1896  <class 'str'>\n",
      "1896.] <class 'str'>\n",
      "1896] <class 'str'>\n",
      "1897 <class 'str'>\n",
      "1897  <class 'str'>\n",
      "1898 <class 'str'>\n",
      "1898  <class 'str'>\n",
      "1898?] <class 'str'>\n",
      "1898] <class 'str'>\n",
      "1899 <class 'str'>\n",
      "1899] <class 'str'>\n",
      "1900] <class 'str'>\n",
      "1911.  <class 'str'>\n",
      "1915 <class 'str'>\n",
      "MDCCCC.  <class 'str'>\n",
      "c.1825] <class 'str'>\n"
     ]
    }
   ],
   "source": [
    "for i in yearly_publication_counts.index:\n",
    "    print(i,type(i))"
   ]
  },
  {
   "cell_type": "code",
   "execution_count": null,
   "metadata": {},
   "outputs": [],
   "source": []
  },
  {
   "cell_type": "code",
   "execution_count": 47,
   "metadata": {},
   "outputs": [
    {
     "data": {
      "text/html": [
       "<div>\n",
       "<style scoped>\n",
       "    .dataframe tbody tr th:only-of-type {\n",
       "        vertical-align: middle;\n",
       "    }\n",
       "\n",
       "    .dataframe tbody tr th {\n",
       "        vertical-align: top;\n",
       "    }\n",
       "\n",
       "    .dataframe thead th {\n",
       "        text-align: right;\n",
       "    }\n",
       "</style>\n",
       "<table border=\"1\" class=\"dataframe\">\n",
       "  <thead>\n",
       "    <tr style=\"text-align: right;\">\n",
       "      <th></th>\n",
       "      <th>Place of Publication</th>\n",
       "      <th>Date of Publication</th>\n",
       "      <th>Publisher</th>\n",
       "      <th>Title</th>\n",
       "      <th>Author</th>\n",
       "      <th>Flickr URL</th>\n",
       "    </tr>\n",
       "  </thead>\n",
       "  <tbody>\n",
       "    <tr>\n",
       "      <th>0</th>\n",
       "      <td>London</td>\n",
       "      <td>1879</td>\n",
       "      <td>S. Tinsley &amp; Co.</td>\n",
       "      <td>Walter Forbes</td>\n",
       "      <td>AA</td>\n",
       "      <td>http://www.flickr.com/photos/britishlibrary/ta...</td>\n",
       "    </tr>\n",
       "    <tr>\n",
       "      <th>1</th>\n",
       "      <td>London</td>\n",
       "      <td>1868</td>\n",
       "      <td>Virtue &amp; Co.</td>\n",
       "      <td>All For Greed</td>\n",
       "      <td>A. A A.</td>\n",
       "      <td>http://www.flickr.com/photos/britishlibrary/ta...</td>\n",
       "    </tr>\n",
       "    <tr>\n",
       "      <th>2</th>\n",
       "      <td>London</td>\n",
       "      <td>1869</td>\n",
       "      <td>Bradbury, Evans &amp; Co.</td>\n",
       "      <td>Love The Avenger</td>\n",
       "      <td>A. A A.</td>\n",
       "      <td>http://www.flickr.com/photos/britishlibrary/ta...</td>\n",
       "    </tr>\n",
       "    <tr>\n",
       "      <th>3</th>\n",
       "      <td>London</td>\n",
       "      <td>1851</td>\n",
       "      <td>James Darling</td>\n",
       "      <td>Welsh Sketches, Chiefly Ecclesiastical, To The...</td>\n",
       "      <td>E. S A.</td>\n",
       "      <td>http://www.flickr.com/photos/britishlibrary/ta...</td>\n",
       "    </tr>\n",
       "    <tr>\n",
       "      <th>4</th>\n",
       "      <td>London</td>\n",
       "      <td>1857</td>\n",
       "      <td>Wertheim &amp; Macintosh</td>\n",
       "      <td>The World In Which I Live, And My Place In It</td>\n",
       "      <td>E. S A.</td>\n",
       "      <td>http://www.flickr.com/photos/britishlibrary/ta...</td>\n",
       "    </tr>\n",
       "  </tbody>\n",
       "</table>\n",
       "</div>"
      ],
      "text/plain": [
       "  Place of Publication  Date of Publication              Publisher  \\\n",
       "0               London                 1879       S. Tinsley & Co.   \n",
       "1               London                 1868           Virtue & Co.   \n",
       "2               London                 1869  Bradbury, Evans & Co.   \n",
       "3               London                 1851          James Darling   \n",
       "4               London                 1857   Wertheim & Macintosh   \n",
       "\n",
       "                                               Title    Author  \\\n",
       "0                                      Walter Forbes        AA   \n",
       "1                                      All For Greed   A. A A.   \n",
       "2                                   Love The Avenger   A. A A.   \n",
       "3  Welsh Sketches, Chiefly Ecclesiastical, To The...   E. S A.   \n",
       "4      The World In Which I Live, And My Place In It   E. S A.   \n",
       "\n",
       "                                          Flickr URL  \n",
       "0  http://www.flickr.com/photos/britishlibrary/ta...  \n",
       "1  http://www.flickr.com/photos/britishlibrary/ta...  \n",
       "2  http://www.flickr.com/photos/britishlibrary/ta...  \n",
       "3  http://www.flickr.com/photos/britishlibrary/ta...  \n",
       "4  http://www.flickr.com/photos/britishlibrary/ta...  "
      ]
     },
     "execution_count": 47,
     "metadata": {},
     "output_type": "execute_result"
    }
   ],
   "source": [
    "def clean_year(year):\n",
    "    \n",
    "    if year == 'nan':\n",
    "        return '0'\n",
    "    if year[0]!='1':\n",
    "        year=year[year.find('1'):]\n",
    "    if ' ' in year:\n",
    "        year=year[:year.find(' ')]\n",
    "    if '/' in year:\n",
    "        year=year[:year.find('/')]\n",
    "    if '?' in year:\n",
    "        year = year[:year.find('?')]\n",
    "    if ']' in year:\n",
    "        year = year[:year.find(']')]\n",
    "    if '.' in year:\n",
    "        year = year[:year.find('.')]\n",
    "\n",
    "    if year.isdigit():\n",
    "        year = int(year)\n",
    "    else:\n",
    "        year = 30\n",
    "\n",
    "    return year\n",
    "\n",
    "cleaned_books_df['Date of Publication'] = cleaned_books_df['Date of Publication'].astype(str)\n",
    "cleaned_books_df['Date of Publication'] = cleaned_books_df['Date of Publication'].apply(clean_year)\n",
    "cleaned_books_df['Date of Publication'] = cleaned_books_df['Date of Publication'].astype(int)\n",
    "cleaned_books_df.head()"
   ]
  },
  {
   "cell_type": "code",
   "execution_count": 50,
   "metadata": {},
   "outputs": [
    {
     "data": {
      "text/plain": [
       "Date of Publication\n",
       "1510      1\n",
       "1540      1\n",
       "1570      1\n",
       "1592      1\n",
       "1602      1\n",
       "       ... \n",
       "1898    140\n",
       "1899    132\n",
       "1900      1\n",
       "1911      1\n",
       "1915      1\n",
       "Length: 254, dtype: int64"
      ]
     },
     "execution_count": 50,
     "metadata": {},
     "output_type": "execute_result"
    }
   ],
   "source": [
    "sorted_years"
   ]
  },
  {
   "cell_type": "markdown",
   "metadata": {},
   "source": [
    "### Get line plot "
   ]
  },
  {
   "cell_type": "code",
   "execution_count": 49,
   "metadata": {},
   "outputs": [
    {
     "data": {
      "image/png": "[encoded data removed]",
      "text/plain": [
       "<Figure size 1000x600 with 1 Axes>"
      ]
     },
     "metadata": {},
     "output_type": "display_data"
    }
   ],
   "source": [
    "# Scatter Plot Analysis: Year of Publication vs. Number of Publications\n",
    "\n",
    "# Grouping the data by 'Date of Publication' to count the number of publications each year\n",
    "testdata = cleaned_books_df[cleaned_books_df['Date of Publication']>1000]\n",
    "yearly_Publication_count = testdata.groupby('Date of Publication').size()\n",
    "\n",
    "# Sorting the data by year (index of the grouped data)\n",
    "sorted_years = yearly_Publication_count.sort_index()\n",
    "\n",
    "# Creating a scatter plot\n",
    "plt.figure(figsize=(10,6))\n",
    "plt.scatter(sorted_years.index,sorted_years,color='blue')\n",
    "\n",
    "\n",
    "plt.title('Year of Publication vs. Number of Publications',fontsize=18)\n",
    "plt.xlabel('Year of Publication',fontsize=17)\n",
    "plt.ylabel('Number of publications',fontsize=16)\n",
    "plt.grid(axis='y')\n",
    "\n",
    "plt.show()\n",
    "\n",
    "# A line graph to show the yearly trend in the number of publications."
   ]
  },
  {
   "cell_type": "code",
   "execution_count": null,
   "metadata": {},
   "outputs": [],
   "source": []
  },
  {
   "cell_type": "markdown",
   "metadata": {},
   "source": [
    "## Practice 2\n",
    "### Identify the top five publishers with their publicated books during 1800 - 1900. (line graph)\n"
   ]
  },
  {
   "cell_type": "code",
   "execution_count": 51,
   "metadata": {},
   "outputs": [
    {
     "data": {
      "text/plain": [
       "Publisher\n",
       "Macmillan & Co.      85\n",
       "London               69\n",
       "Privately printed    53\n",
       "Longmans & Co.       52\n",
       "Hurst & Blackett     51\n",
       "Name: count, dtype: int64"
      ]
     },
     "execution_count": 51,
     "metadata": {},
     "output_type": "execute_result"
    }
   ],
   "source": [
    "publish_list = cleaned_books_df['Publisher'].value_counts()[:5]\n",
    "publish_list"
   ]
  },
  {
   "cell_type": "code",
   "execution_count": 52,
   "metadata": {
    "scrolled": true
   },
   "outputs": [
    {
     "data": {
      "text/plain": [
       "Date of Publication\n",
       "1857     1\n",
       "1859     1\n",
       "1862     1\n",
       "1864     1\n",
       "1869     1\n",
       "1870     1\n",
       "1873     1\n",
       "1874     2\n",
       "1875     1\n",
       "1876     1\n",
       "1880     3\n",
       "1881     1\n",
       "1882     2\n",
       "1883     1\n",
       "1884     4\n",
       "1885     2\n",
       "1886     4\n",
       "1887     2\n",
       "1888     1\n",
       "1889     2\n",
       "1890     3\n",
       "1891     1\n",
       "1892     1\n",
       "1893     5\n",
       "1894     2\n",
       "1895     8\n",
       "1896    16\n",
       "1897     6\n",
       "1898     7\n",
       "1899     3\n",
       "dtype: int64"
      ]
     },
     "execution_count": 52,
     "metadata": {},
     "output_type": "execute_result"
    }
   ],
   "source": [
    "dfA = cleaned_books_df[cleaned_books_df['Publisher'] ==publish_list.index[0]]\n",
    "filerdf = dfA[(dfA['Date of Publication']>=1800) & (dfA['Date of Publication']<=1900)]\n",
    "yearly_counts = filerdf.groupby('Date of Publication').size()\n",
    "\n",
    "yearly_counts.sort_index()"
   ]
  },
  {
   "cell_type": "code",
   "execution_count": 58,
   "metadata": {
    "scrolled": true
   },
   "outputs": [
    {
     "data": {
      "text/plain": [
       "{'Macmillan & Co.': Date of Publication\n",
       " 1857     1\n",
       " 1859     1\n",
       " 1862     1\n",
       " 1864     1\n",
       " 1869     1\n",
       " 1870     1\n",
       " 1873     1\n",
       " 1874     2\n",
       " 1875     1\n",
       " 1876     1\n",
       " 1880     3\n",
       " 1881     1\n",
       " 1882     2\n",
       " 1883     1\n",
       " 1884     4\n",
       " 1885     2\n",
       " 1886     4\n",
       " 1887     2\n",
       " 1888     1\n",
       " 1889     2\n",
       " 1890     3\n",
       " 1891     1\n",
       " 1892     1\n",
       " 1893     5\n",
       " 1894     2\n",
       " 1895     8\n",
       " 1896    16\n",
       " 1897     6\n",
       " 1898     7\n",
       " 1899     3\n",
       " dtype: int64,\n",
       " 'London': Date of Publication\n",
       " 1802    1\n",
       " 1803    1\n",
       " 1805    1\n",
       " 1806    2\n",
       " 1807    1\n",
       " 1819    1\n",
       " 1820    1\n",
       " 1845    1\n",
       " 1846    1\n",
       " 1848    1\n",
       " 1850    1\n",
       " 1853    1\n",
       " 1854    1\n",
       " 1858    1\n",
       " 1862    1\n",
       " 1865    2\n",
       " 1866    3\n",
       " 1867    1\n",
       " 1869    1\n",
       " 1871    1\n",
       " 1872    1\n",
       " 1875    1\n",
       " 1880    1\n",
       " 1885    1\n",
       " 1886    1\n",
       " 1888    2\n",
       " 1889    1\n",
       " 1890    2\n",
       " 1891    1\n",
       " 1892    1\n",
       " 1895    1\n",
       " 1896    2\n",
       " 1897    2\n",
       " 1898    3\n",
       " dtype: int64,\n",
       " 'Privately printed': Date of Publication\n",
       " 1800    1\n",
       " 1804    1\n",
       " 1806    1\n",
       " 1807    1\n",
       " 1823    1\n",
       " 1829    1\n",
       " 1830    2\n",
       " 1835    1\n",
       " 1836    1\n",
       " 1837    2\n",
       " 1843    1\n",
       " 1844    1\n",
       " 1850    2\n",
       " 1852    3\n",
       " 1853    1\n",
       " 1856    1\n",
       " 1859    2\n",
       " 1860    1\n",
       " 1861    1\n",
       " 1866    1\n",
       " 1869    1\n",
       " 1870    1\n",
       " 1871    1\n",
       " 1874    1\n",
       " 1876    1\n",
       " 1877    2\n",
       " 1880    3\n",
       " 1881    1\n",
       " 1882    1\n",
       " 1883    2\n",
       " 1884    1\n",
       " 1886    2\n",
       " 1887    1\n",
       " 1890    1\n",
       " 1895    1\n",
       " 1897    1\n",
       " dtype: int64,\n",
       " 'Longmans & Co.': Date of Publication\n",
       " 1834    1\n",
       " 1839    1\n",
       " 1864    1\n",
       " 1868    1\n",
       " 1873    1\n",
       " 1876    1\n",
       " 1877    1\n",
       " 1878    1\n",
       " 1882    1\n",
       " 1884    1\n",
       " 1885    2\n",
       " 1886    2\n",
       " 1887    3\n",
       " 1888    3\n",
       " 1889    6\n",
       " 1891    2\n",
       " 1892    3\n",
       " 1893    3\n",
       " 1894    4\n",
       " 1895    4\n",
       " 1896    5\n",
       " 1897    4\n",
       " 1898    1\n",
       " dtype: int64,\n",
       " 'Hurst & Blackett': Date of Publication\n",
       " 1853    1\n",
       " 1854    1\n",
       " 1855    1\n",
       " 1856    3\n",
       " 1857    1\n",
       " 1858    1\n",
       " 1859    1\n",
       " 1860    3\n",
       " 1861    2\n",
       " 1862    3\n",
       " 1863    3\n",
       " 1864    1\n",
       " 1865    1\n",
       " 1866    2\n",
       " 1867    2\n",
       " 1869    2\n",
       " 1870    2\n",
       " 1871    1\n",
       " 1875    1\n",
       " 1876    1\n",
       " 1877    1\n",
       " 1878    1\n",
       " 1880    3\n",
       " 1881    1\n",
       " 1882    1\n",
       " 1884    1\n",
       " 1885    1\n",
       " 1888    3\n",
       " 1889    1\n",
       " 1893    1\n",
       " 1897    2\n",
       " 1899    1\n",
       " dtype: int64}"
      ]
     },
     "execution_count": 58,
     "metadata": {},
     "output_type": "execute_result"
    }
   ],
   "source": [
    "def filter_topX_publisher_in_1800_1900(n,df):\n",
    "    #n: Number of target searches\n",
    "    #df: input dataframe\n",
    "    #Your code:\n",
    "\n",
    "    dic_res = {}\n",
    "    publish_list = cleaned_books_df['Publisher'].value_counts()[:n]\n",
    "    for publisher in publish_list.index:\n",
    "        dfA = cleaned_books_df[cleaned_books_df['Publisher'] == publisher]\n",
    "        filerdf = dfA[(dfA['Date of Publication']>=1800) & (dfA['Date of Publication']<=1900)]\n",
    "        yearly_counts = filerdf.groupby('Date of Publication').size()\n",
    "\n",
    "        sorted_years = yearly_counts.sort_index()\n",
    "\n",
    "        dic_res[publisher] = yearly_counts\n",
    "        \n",
    "    return dic_res\n",
    "\n",
    "filter_topX_publisher_in_1800_1900(5,cleaned_books_df)"
   ]
  },
  {
   "cell_type": "code",
   "execution_count": 59,
   "metadata": {},
   "outputs": [
    {
     "data": {
      "image/png": "[encoded data removed]",
      "text/plain": [
       "<Figure size 1000x600 with 1 Axes>"
      ]
     },
     "metadata": {},
     "output_type": "display_data"
    }
   ],
   "source": [
    "# Extracting publishers, publish years, and publish items\n",
    "publisher_data_dic = filter_topX_publisher_in_1800_1900(5,cleaned_books_df)\n",
    "\n",
    "# Creating a line graph\n",
    "plt.figure(figsize=(10, 6))\n",
    "\n",
    "for pub,years_data in publisher_data_dic.items():\n",
    "#     print(pub,years_data)\n",
    "    plt.plot(years_data.index, years_data, '-', label=pub)\n",
    "\n",
    "# plt.plot(yearly_publication_counts.index, yearly_publication_counts, color='blue')\n",
    "plt.title('Year of Publication vs. Number of Publications')\n",
    "plt.xlabel('Year of Publication')\n",
    "plt.ylabel('Number of Publications')\n",
    "# plt.xticks([1500,1550,1600,1650,1700,1750,1800,1850,1900],\n",
    "#            ['1890','1891','1892','1893','1894','1895','1896','1897','1898',],fontsize = 15)\n",
    "plt.legend()\n",
    "plt.grid(axis='y')\n",
    "plt.show()"
   ]
  },
  {
   "cell_type": "markdown",
   "metadata": {},
   "source": [
    "### Compute the cumulative sum of Publications. (Please watch the tutorial)"
   ]
  },
  {
   "cell_type": "code",
   "execution_count": 60,
   "metadata": {},
   "outputs": [
    {
     "data": {
      "text/plain": [
       "array([ 1,  3,  6, 10, 15])"
      ]
     },
     "execution_count": 60,
     "metadata": {},
     "output_type": "execute_result"
    }
   ],
   "source": [
    "a = np.array([1,2,3,4,5])\n",
    "np.cumsum(a)"
   ]
  },
  {
   "cell_type": "code",
   "execution_count": 62,
   "metadata": {},
   "outputs": [
    {
     "data": {
      "image/png": "[encoded data removed]",
      "text/plain": [
       "<Figure size 1000x600 with 1 Axes>"
      ]
     },
     "metadata": {},
     "output_type": "display_data"
    }
   ],
   "source": [
    "# Extracting publishers, publish years, and publish items\n",
    "publisher_data_dic = filter_topX_publisher_in_1800_1900(5,cleaned_books_df)\n",
    "\n",
    "# Creating a line graph\n",
    "plt.figure(figsize=(10, 6))\n",
    "\n",
    "for pub,years_data in publisher_data_dic.items():\n",
    "#     print(pub,years_data)\n",
    "\n",
    "    years_data = np.cumsum(years_data)\n",
    "    plt.plot(years_data.index, years_data, '-', label=pub)\n",
    "\n",
    "# plt.plot(yearly_publication_counts.index, yearly_publication_counts, color='blue')\n",
    "plt.title('Year of Publication vs. Cumulative sum of publications')\n",
    "plt.xlabel('Year of Publication')\n",
    "plt.ylabel('Cumulative Sum Number of Publications')\n",
    "# plt.xticks([1500,1550,1600,1650,1700,1750,1800,1850,1900],\n",
    "#            ['1890','1891','1892','1893','1894','1895','1896','1897','1898',],fontsize = 15)\n",
    "plt.legend()\n",
    "plt.grid(axis='y')\n",
    "plt.show()"
   ]
  },
  {
   "cell_type": "code",
   "execution_count": 63,
   "metadata": {},
   "outputs": [],
   "source": [
    "cleaned_books_df.to_csv(\"Cleaned_books.csv\", index = False)"
   ]
  },
  {
   "cell_type": "code",
   "execution_count": null,
   "metadata": {},
   "outputs": [],
   "source": []
  }
 ],
 "metadata": {
  "kernelspec": {
   "display_name": "Python 3 (ipykernel)",
   "language": "python",
   "name": "python3"
  },
  "language_info": {
   "codemirror_mode": {
    "name": "ipython",
    "version": 3
   },
   "file_extension": ".py",
   "mimetype": "text/x-python",
   "name": "python",
   "nbconvert_exporter": "python",
   "pygments_lexer": "ipython3",
   "version": "3.11.9"
  }
 },
 "nbformat": 4,
 "nbformat_minor": 4
}
